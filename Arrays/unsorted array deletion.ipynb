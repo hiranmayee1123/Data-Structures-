{
 "cells": [
  {
   "cell_type": "code",
   "execution_count": 1,
   "id": "a4bb0139",
   "metadata": {},
   "outputs": [
    {
     "name": "stdout",
     "output_type": "stream",
     "text": [
      "Enter the number of elements: 6\n",
      "Enter the elementsin array : 1 2 3 4 5 6\n",
      "Enter the key value to be deleted: 4\n"
     ]
    }
   ],
   "source": [
    "arr=[]\n",
    "n=[int(input(\"Enter the number of elements: \"))]\n",
    "arr = [int(item) for item in input(\"Enter the elementsin array : \").split()]\n",
    "key=int(input(\"Enter the key value to be deleted: \"))\n",
    "arr.remove(key)"
   ]
  },
  {
   "cell_type": "code",
   "execution_count": 2,
   "id": "24c06459",
   "metadata": {},
   "outputs": [
    {
     "name": "stdout",
     "output_type": "stream",
     "text": [
      "[1, 2, 3, 5, 6]\n"
     ]
    }
   ],
   "source": [
    "print(arr)"
   ]
  },
  {
   "cell_type": "code",
   "execution_count": null,
   "id": "74df15db",
   "metadata": {},
   "outputs": [],
   "source": []
  }
 ],
 "metadata": {
  "kernelspec": {
   "display_name": "Python 3",
   "language": "python",
   "name": "python3"
  },
  "language_info": {
   "codemirror_mode": {
    "name": "ipython",
    "version": 3
   },
   "file_extension": ".py",
   "mimetype": "text/x-python",
   "name": "python",
   "nbconvert_exporter": "python",
   "pygments_lexer": "ipython3",
   "version": "3.8.8"
  }
 },
 "nbformat": 4,
 "nbformat_minor": 5
}
