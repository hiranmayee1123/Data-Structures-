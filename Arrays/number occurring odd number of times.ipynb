{
 "cells": [
  {
   "cell_type": "code",
   "execution_count": 1,
   "id": "e8488d72",
   "metadata": {},
   "outputs": [
    {
     "name": "stdout",
     "output_type": "stream",
     "text": [
      "Enter values of arr: 7 7 7 7 2 2 3 3 3\n",
      "3\n"
     ]
    }
   ],
   "source": [
    "def getOddOccurrence(arr, arr_size):\n",
    "     \n",
    "    for i in range(0,arr_size):\n",
    "        count = 0\n",
    "        for j in range(0, arr_size):\n",
    "            if arr[i] == arr[j]:\n",
    "                count+=1\n",
    "             \n",
    "        if (count % 2 != 0):\n",
    "            return arr[i]\n",
    "         \n",
    "    return -1\n",
    "arr=[int(i) for i in input(\"Enter values of arr: \").split()]\n",
    "arr_size=len(arr)\n",
    "print(getOddOccurrence(arr, arr_size))\n",
    "     "
   ]
  },
  {
   "cell_type": "code",
   "execution_count": null,
   "id": "f5358ce4",
   "metadata": {},
   "outputs": [],
   "source": []
  }
 ],
 "metadata": {
  "kernelspec": {
   "display_name": "Python 3",
   "language": "python",
   "name": "python3"
  },
  "language_info": {
   "codemirror_mode": {
    "name": "ipython",
    "version": 3
   },
   "file_extension": ".py",
   "mimetype": "text/x-python",
   "name": "python",
   "nbconvert_exporter": "python",
   "pygments_lexer": "ipython3",
   "version": "3.8.8"
  }
 },
 "nbformat": 4,
 "nbformat_minor": 5
}
