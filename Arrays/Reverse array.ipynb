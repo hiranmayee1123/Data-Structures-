{
 "cells": [
  {
   "cell_type": "code",
   "execution_count": 2,
   "id": "9b2c8de3",
   "metadata": {},
   "outputs": [
    {
     "name": "stdout",
     "output_type": "stream",
     "text": [
      "Enter the number of elements: 5\n",
      "Enter the elementsin array : 5 6 7 8 9 \n",
      "[9, 8, 7, 6, 5]\n"
     ]
    }
   ],
   "source": [
    "arr=[]\n",
    "n=[int(input(\"Enter the number of elements: \"))]\n",
    "arr = [int(item) for item in input(\"Enter the elementsin array : \").split()]\n",
    "arr.reverse()\n",
    "print(arr)"
   ]
  },
  {
   "cell_type": "markdown",
   "id": "f1f74774",
   "metadata": {},
   "source": []
  }
 ],
 "metadata": {
  "kernelspec": {
   "display_name": "Python 3",
   "language": "python",
   "name": "python3"
  },
  "language_info": {
   "codemirror_mode": {
    "name": "ipython",
    "version": 3
   },
   "file_extension": ".py",
   "mimetype": "text/x-python",
   "name": "python",
   "nbconvert_exporter": "python",
   "pygments_lexer": "ipython3",
   "version": "3.8.8"
  }
 },
 "nbformat": 4,
 "nbformat_minor": 5
}
