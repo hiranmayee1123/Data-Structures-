{
 "cells": [
  {
   "cell_type": "code",
   "execution_count": 3,
   "id": "101a43c3",
   "metadata": {},
   "outputs": [
    {
     "name": "stdout",
     "output_type": "stream",
     "text": [
      "Enter the number of elements in n: 5\n",
      "\n",
      "Enter the numbers : 1 2 -1 5 -2\n",
      "Enter the element in which sum of two numbers in array: 0\n",
      "1 -1\n"
     ]
    }
   ],
   "source": [
    "def sumoftwoelements(arr,n,s):\n",
    "    for i in range(0,n-2):       \n",
    "        for j in range(1,n-1):\n",
    "            if(arr[i]+arr[j]==s):\n",
    "                print(arr[i],arr[j])\n",
    "n=int(input(\"Enter the number of elements in n: \"))\n",
    "arr=list(map(int,input(\"\\nEnter the numbers : \").strip().split()))[:n]\n",
    "s=int(input(\"Enter the element in which sum of two numbers in array: \"))\n",
    "sumoftwoelements(arr,n,s)"
   ]
  },
  {
   "cell_type": "code",
   "execution_count": null,
   "id": "ecdac802",
   "metadata": {},
   "outputs": [],
   "source": []
  }
 ],
 "metadata": {
  "kernelspec": {
   "display_name": "Python 3",
   "language": "python",
   "name": "python3"
  },
  "language_info": {
   "codemirror_mode": {
    "name": "ipython",
    "version": 3
   },
   "file_extension": ".py",
   "mimetype": "text/x-python",
   "name": "python",
   "nbconvert_exporter": "python",
   "pygments_lexer": "ipython3",
   "version": "3.8.8"
  }
 },
 "nbformat": 4,
 "nbformat_minor": 5
}
