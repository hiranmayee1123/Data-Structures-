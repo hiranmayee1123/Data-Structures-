{
 "cells": [
  {
   "cell_type": "code",
   "execution_count": 1,
   "id": "bb59229c",
   "metadata": {},
   "outputs": [
    {
     "name": "stdout",
     "output_type": "stream",
     "text": [
      "Enter numbers of the array: 5\n",
      "Enter the key value to be searched: 6\n",
      "1\n",
      "2\n",
      "3\n",
      "5\n",
      "6\n",
      "element found at position: 5\n"
     ]
    }
   ],
   "source": [
    "arr=[]\n",
    "n=int(input(\"Enter numbers of the array: \"))\n",
    "key=int(input(\"Enter the key value to be searched: \"))\n",
    "for i in range(0,n):\n",
    "    elements=int(input())\n",
    "    arr.append(elements)\n",
    "def findElement(arr, n, key):\n",
    "    for j in range (n):\n",
    "        if (arr[j] == key):\n",
    "            return j\n",
    "    return -1\n",
    "index = findElement(arr, n, key)\n",
    "if index != -1:\n",
    "    print (\"element found at position: \" + str(index + 1 ))\n",
    "else:\n",
    "    print (\"element not found\")\n",
    "     "
   ]
  },
  {
   "cell_type": "code",
   "execution_count": 2,
   "id": "cdadff9e",
   "metadata": {},
   "outputs": [
    {
     "name": "stdout",
     "output_type": "stream",
     "text": [
      "Enter numbers of the array: 5\n",
      "Enter the key value to be inserted: 5\n",
      "Enter the position in which the value to be inserted: 6\n",
      "1\n",
      "2\n",
      "3\n",
      "4\n",
      "5\n",
      "[1, 2, 3, 4, 5, 5]\n"
     ]
    }
   ],
   "source": [
    "arr=[]\n",
    "n=int(input(\"Enter numbers of the array: \"))\n",
    "key=int(input(\"Enter the key value to be inserted: \"))\n",
    "position=(int(input(\"Enter the position in which the value to be inserted: \")))\n",
    "for i in range(0,n):\n",
    "    elements=int(input())\n",
    "    arr.append(elements)\n",
    "\n",
    "arr.insert(position,key)\n",
    "print(arr)"
   ]
  },
  {
   "cell_type": "code",
   "execution_count": null,
   "id": "8a798b27",
   "metadata": {},
   "outputs": [],
   "source": []
  }
 ],
 "metadata": {
  "kernelspec": {
   "display_name": "Python 3",
   "language": "python",
   "name": "python3"
  },
  "language_info": {
   "codemirror_mode": {
    "name": "ipython",
    "version": 3
   },
   "file_extension": ".py",
   "mimetype": "text/x-python",
   "name": "python",
   "nbconvert_exporter": "python",
   "pygments_lexer": "ipython3",
   "version": "3.8.8"
  }
 },
 "nbformat": 3,
 "nbformat_minor": 5
}
