{
 "cells": [
  {
   "cell_type": "code",
   "execution_count": 9,
   "id": "7a3cef75",
   "metadata": {},
   "outputs": [
    {
     "name": "stdout",
     "output_type": "stream",
     "text": [
      "Enter the number of elements in n: 5\n",
      "\n",
      "Enter the numbers : 10 7 2 3 9 \n",
      "9\n",
      "10\n"
     ]
    }
   ],
   "source": [
    "def printLeaders(arr, n):\n",
    "    \n",
    "    max_from_right = arr[n-1]  \n",
    "    print(max_from_right,)   \n",
    "    for i in range( n-2, -1, -1):       \n",
    "        if max_from_right < arr[i]:       \n",
    "            print(arr[i]),\n",
    "            max_from_right = arr[i]\n",
    "n=int(input(\"Enter the number of elements in n: \"))\n",
    "arr=list(map(int,input(\"\\nEnter the numbers : \").strip().split()))[:n]\n",
    "printLeaders(arr,n)\n"
   ]
  },
  {
   "cell_type": "code",
   "execution_count": null,
   "id": "211a92a7",
   "metadata": {},
   "outputs": [],
   "source": []
  }
 ],
 "metadata": {
  "kernelspec": {
   "display_name": "Python 3",
   "language": "python",
   "name": "python3"
  },
  "language_info": {
   "codemirror_mode": {
    "name": "ipython",
    "version": 3
   },
   "file_extension": ".py",
   "mimetype": "text/x-python",
   "name": "python",
   "nbconvert_exporter": "python",
   "pygments_lexer": "ipython3",
   "version": "3.8.8"
  }
 },
 "nbformat": 4,
 "nbformat_minor": 5
}
