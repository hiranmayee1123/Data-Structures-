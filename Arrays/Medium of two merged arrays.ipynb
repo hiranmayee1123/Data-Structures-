{
 "cells": [
  {
   "cell_type": "raw",
   "id": "44e38836",
   "metadata": {},
   "source": []
  },
  {
   "cell_type": "code",
   "execution_count": 1,
   "id": "0f655df6",
   "metadata": {},
   "outputs": [
    {
     "name": "stdout",
     "output_type": "stream",
     "text": [
      "Median is  16.0\n"
     ]
    }
   ],
   "source": [
    "def getMedian( ar1, ar2 , n):\n",
    "    i = 0 \n",
    "    j = 0 \n",
    "     \n",
    "    m1 = -1\n",
    "    m2 = -1\n",
    "     \n",
    "    count = 0\n",
    "    while count < n + 1:\n",
    "        count += 1\n",
    "         \n",
    "        if i == n:\n",
    "            m1 = m2\n",
    "            m2 = ar2[0]\n",
    "            break\n",
    "        \n",
    "        elif j == n:\n",
    "            m1 = m2\n",
    "            m2 = ar1[0]\n",
    "            break\n",
    "        if ar1[i] <= ar2[j]:\n",
    "            m1 = m2 \n",
    "            m2 = ar1[i]\n",
    "            i += 1\n",
    "        else:\n",
    "            m1 = m2 \n",
    "            m2 = ar2[j]\n",
    "            j += 1\n",
    "    return (m1 + m2)/2\n",
    " \n",
    "ar1 = [1, 12, 15, 26, 38]\n",
    "ar2 = [2, 13, 17, 30, 45]\n",
    "n1 = len(ar1)\n",
    "n2 = len(ar2)\n",
    "if n1 == n2:\n",
    "    print(\"Median is \", getMedian(ar1, ar2, n1))\n",
    "else:\n",
    "    print(\"Doesn't work for arrays of unequal size\")"
   ]
  },
  {
   "cell_type": "code",
   "execution_count": null,
   "id": "7b9e911d",
   "metadata": {},
   "outputs": [],
   "source": []
  }
 ],
 "metadata": {
  "kernelspec": {
   "display_name": "Python 3",
   "language": "python",
   "name": "python3"
  },
  "language_info": {
   "codemirror_mode": {
    "name": "ipython",
    "version": 3
   },
   "file_extension": ".py",
   "mimetype": "text/x-python",
   "name": "python",
   "nbconvert_exporter": "python",
   "pygments_lexer": "ipython3",
   "version": "3.8.8"
  }
 },
 "nbformat": 4,
 "nbformat_minor": 5
}
