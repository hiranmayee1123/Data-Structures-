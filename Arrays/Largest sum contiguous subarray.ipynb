{
 "cells": [
  {
   "cell_type": "code",
   "execution_count": 5,
   "id": "c3e84cfd",
   "metadata": {},
   "outputs": [
    {
     "name": "stdout",
     "output_type": "stream",
     "text": [
      "5\n"
     ]
    }
   ],
   "source": [
    "def maxcontsum(arr,n):\n",
    "    cursum=0\n",
    "    maxsum=0\n",
    "    for i in range(n):\n",
    "        cursum=cursum+arr[i]\n",
    "        if(cursum>maxsum):\n",
    "            maxsum=cursum\n",
    "        if(cursum<0):\n",
    "            cursum=0\n",
    "        \n",
    "    return maxsum\n",
    "arr=[-1,2,3,-4,-5]\n",
    "n=len(arr)\n",
    "print(maxcontsum(arr,n))"
   ]
  },
  {
   "cell_type": "code",
   "execution_count": null,
   "id": "7adb2b20",
   "metadata": {},
   "outputs": [],
   "source": []
  }
 ],
 "metadata": {
  "kernelspec": {
   "display_name": "Python 3",
   "language": "python",
   "name": "python3"
  },
  "language_info": {
   "codemirror_mode": {
    "name": "ipython",
    "version": 3
   },
   "file_extension": ".py",
   "mimetype": "text/x-python",
   "name": "python",
   "nbconvert_exporter": "python",
   "pygments_lexer": "ipython3",
   "version": "3.8.8"
  }
 },
 "nbformat": 4,
 "nbformat_minor": 5
}
