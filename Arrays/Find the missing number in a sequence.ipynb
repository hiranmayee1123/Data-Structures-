{
 "cells": [
  {
   "cell_type": "code",
   "execution_count": 7,
   "id": "e427c0e8",
   "metadata": {},
   "outputs": [
    {
     "name": "stdout",
     "output_type": "stream",
     "text": [
      "4\n"
     ]
    }
   ],
   "source": [
    "def missingnumber(arr,n):\n",
    "    totalsum=((n+1)*(n+2))/2\n",
    "    sumofarr=sum(arr)\n",
    "    return int(totalsum-sumofarr)\n",
    "arr=[1,2,3,5,6,7]\n",
    "n=len(arr)\n",
    "print(missingnumber(arr,n))"
   ]
  },
  {
   "cell_type": "code",
   "execution_count": null,
   "id": "c8f3e0e2",
   "metadata": {},
   "outputs": [],
   "source": []
  }
 ],
 "metadata": {
  "kernelspec": {
   "display_name": "Python 3",
   "language": "python",
   "name": "python3"
  },
  "language_info": {
   "codemirror_mode": {
    "name": "ipython",
    "version": 3
   },
   "file_extension": ".py",
   "mimetype": "text/x-python",
   "name": "python",
   "nbconvert_exporter": "python",
   "pygments_lexer": "ipython3",
   "version": "3.8.8"
  }
 },
 "nbformat": 4,
 "nbformat_minor": 5
}
